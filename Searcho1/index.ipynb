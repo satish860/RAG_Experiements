{
 "cells": [
  {
   "cell_type": "code",
   "execution_count": 1,
   "metadata": {},
   "outputs": [],
   "source": [
    "! pip install -q litellm tqdm PyMuPDF Pillow instructor openai python-dotenv weaviate-client pandas"
   ]
  },
  {
   "cell_type": "code",
   "execution_count": 2,
   "metadata": {},
   "outputs": [
    {
     "data": {
      "text/plain": [
       "True"
      ]
     },
     "execution_count": 2,
     "metadata": {},
     "output_type": "execute_result"
    }
   ],
   "source": [
    "import os \n",
    "from dotenv import load_dotenv\n",
    "\n",
    "load_dotenv()"
   ]
  },
  {
   "cell_type": "code",
   "execution_count": 22,
   "metadata": {},
   "outputs": [],
   "source": [
    "def get_singleqa_search_o1_instruction(MAX_SEARCH_LIMIT):\n",
    "    return (\n",
    "        \"You are a planning agent in a retrieval-augmented generation system. \"\n",
    "        \"Your job is to create a plan for answering the question using external tools.\\n\\n\"\n",
    "        \"Do not try to answer the question directly.\\n\"\n",
    "        \"Instead, generate a plan with search queries to retrieve relevant information.\\n\\n\"\n",
    "        \"To specify a search query, write it between these tags:\\n\"\n",
    "        \"<|begin_search_query|>your query here<|end_search_query|>\\n\\n\"\n",
    "        f\"You can specify up to {MAX_SEARCH_LIMIT} search queries.\\n\\n\"\n",
    "        \"After generating the plan, the system will execute the search queries and provide you with the results.\\n\" \n",
    "        \"You will then have the opportunity to use those results to answer the question.\"\n",
    "    )"
   ]
  },
  {
   "cell_type": "code",
   "execution_count": 23,
   "metadata": {},
   "outputs": [
    {
     "name": "stdout",
     "output_type": "stream",
     "text": [
      "You are a planning agent in a retrieval-augmented generation system. Your job is to create a plan for answering the question using external tools.\n",
      "\n",
      "Do not try to answer the question directly.\n",
      "Instead, generate a plan with search queries to retrieve relevant information.\n",
      "\n",
      "To specify a search query, write it between these tags:\n",
      "<|begin_search_query|>your query here<|end_search_query|>\n",
      "\n",
      "You can specify up to 5 search queries.\n",
      "\n",
      "After generating the plan, the system will execute the search queries and provide you with the results.\n",
      "You will then have the opportunity to use those results to answer the question.\n"
     ]
    }
   ],
   "source": [
    "print(get_singleqa_search_o1_instruction(5)) #get_singleqa_search_o1_instruction(5)"
   ]
  },
  {
   "cell_type": "code",
   "execution_count": 30,
   "metadata": {},
   "outputs": [],
   "source": [
    "def get_task_instruction_openqa(question, model_name=None):\n",
    "    if model_name == 'qwq':\n",
    "        user_prompt = (\n",
    "            'Please Provide the Plan for the following question.\\n\\n'\n",
    "            f'Question:\\n{question}\\n\\n'\n",
    "        )\n",
    "    else:\n",
    "        user_prompt = (\n",
    "            'Please answer the following question. You should think step by step to solve it.\\n\\n'\n",
    "            'Provide your final answer in the format \\\\boxed{YOUR_ANSWER}.\\n\\n'\n",
    "            f'Question:\\n{question}\\n\\n'\n",
    "        )\n",
    "    return user_prompt"
   ]
  },
  {
   "cell_type": "code",
   "execution_count": 31,
   "metadata": {},
   "outputs": [],
   "source": [
    "question = \"\"\"\n",
    "Is 3M a capital-intensive business based on FY2022 data?\n",
    "\"\"\""
   ]
  },
  {
   "cell_type": "code",
   "execution_count": 32,
   "metadata": {},
   "outputs": [],
   "source": [
    "\n",
    "user_prompt = get_task_instruction_openqa(question,'qwq')\n",
    "instruction = get_singleqa_search_o1_instruction(5)\n",
    "\n",
    "prompt = [{\"role\": \"user\", \"content\": instruction + user_prompt}]"
   ]
  },
  {
   "cell_type": "code",
   "execution_count": 33,
   "metadata": {},
   "outputs": [
    {
     "data": {
      "text/plain": [
       "[{'role': 'user',\n",
       "  'content': 'You are a planning agent in a retrieval-augmented generation system. Your job is to create a plan for answering the question using external tools.\\n\\nDo not try to answer the question directly.\\nInstead, generate a plan with search queries to retrieve relevant information.\\n\\nTo specify a search query, write it between these tags:\\n<|begin_search_query|>your query here<|end_search_query|>\\n\\nYou can specify up to 5 search queries.\\n\\nAfter generating the plan, the system will execute the search queries and provide you with the results.\\nYou will then have the opportunity to use those results to answer the question.Please Provide the Plan for the following question.\\n\\nQuestion:\\n\\nIs 3M a capital-intensive business based on FY2022 data?\\n\\n\\n'}]"
      ]
     },
     "execution_count": 33,
     "metadata": {},
     "output_type": "execute_result"
    }
   ],
   "source": [
    "prompt"
   ]
  },
  {
   "cell_type": "code",
   "execution_count": 34,
   "metadata": {},
   "outputs": [
    {
     "name": "stdout",
     "output_type": "stream",
     "text": [
      "ModelResponse(id='gen-1737428086-aPPamgrYKq25bNqhFkpE', created=1737428086, model='openrouter/qwen/qwq-32b-preview', object='chat.completion', system_fingerprint=None, choices=[Choices(finish_reason='stop', index=0, message=Message(content='Alright, I need to figure out if 3M is a capital-intensive business based on their FY2022 data. First off, I need to understand what a capital-intensive business is. I think it means a company that requires a lot of initial investment in physical assets like property, plant, and equipment to operate. So, for 3M, which is a multinational corporation that operates in various industries like manufacturing, health care, consumer goods, and more, I need to see how much they invest in assets relative to their sales or revenue.\\n\\nI recall that in finance, there are ratios that can help determine how capital-intensive a company is, like the fixed assets to sales ratio or the capital intensity ratio. Maybe I should look into those. I need to find 3M\\'s financial statements for FY2022 to get the necessary data. Specifically, I\\'ll need their balance sheet and income statement to find the total assets and sales figures.\\n\\nI should probably start by finding 3M\\'s annual report for FY2022. Annual reports usually contain all the financial statements and notes that I might need. Maybe I can search for \"3M FY2022 annual report\" or something similar. Once I have the annual report, I can look for the balance sheet to find the total assets and the income statement to find the sales or revenue figure.\\n\\nAlso, it might be helpful to compare 3M\\'s capital intensity with other companies in the same industry to see how it stacks up. That way, I can get a better perspective on whether it\\'s considered high or low in its sector.\\n\\nWait, I should define what constitutes a capital-intensive business. Is there a specific threshold for the fixed assets to sales ratio or another metric that classifies a company as capital-intensive? I might need to research that.\\n\\nMaybe I should look for articles or resources that explain how to determine if a company is capital-intensive. That could give me a framework to follow.\\n\\nAdditionally, since 3M operates in multiple industries, their capital intensity might vary across different segments. If possible, I should look into the breakdown of their assets and sales by business segment.\\n\\nI should also consider other financial metrics that might indicate capital intensity, such as depreciation expenses, which would suggest a significant investment in fixed assets.\\n\\nOverall, my plan is to:\\n\\n1. Find 3M\\'s FY2022 annual report to get the balance sheet and income statement.\\n\\n2. Calculate the fixed assets to sales ratio or another relevant capital intensity ratio.\\n\\n3. Compare 3M\\'s capital intensity with industry standards or competitors.\\n\\n4. Consider the breakdown of assets and sales by business segment if available.\\n\\n5. Look for any additional financial metrics that can support my analysis.\\n\\nTo execute this plan, I need to perform some searches to find the required information. So, I\\'ll need to specify search queries for:\\n\\n- 3M FY2022 annual report\\n\\n- Capital intensity ratios and how to calculate them\\n\\n- 3M\\'s industry peers and their capital intensity\\n\\nI think that\\'s a good starting point. Maybe I can also look for analyst reports or articles that discuss 3M\\'s capital structure or investment in assets.\\n\\nAlright, let\\'s proceed to formulate the search queries.\\n\\n## Final Solution\\nTo determine if 3M is a capital-intensive business based on FY2022 data, the following plan with search queries is proposed:\\n\\n1. **Search for 3M\\'s FY2022 Annual Report:**\\n   - This will provide access to the company\\'s balance sheet and income statement, which are essential for calculating capital intensity ratios.\\n   - **Search Query:** \"3M FY2022 annual report\"\\n\\n2. **Understand Capital Intensity Ratios:**\\n   - To properly assess capital intensity, it\\'s necessary to know which financial ratios are most indicative of a company\\'s reliance on physical assets.\\n   - **Search Query:** \"how to determine if a company is capital intensive\"\\n\\n3. **Compare with Industry Peers:**\\n   - Comparing 3M\\'s capital intensity with that of its competitors will provide context on whether its level of capital intensity is high or low relative to the industry.\\n   - **Search Query:** \"capital intensity of 3M\\'s industry peers\"\\n\\n4. **Analyze Business Segments:**\\n   - Since 3M operates in multiple industries, understanding the capital intensity of each segment can offer a more nuanced view.\\n   - **Search Query:** \"3M business segment financials FY2022\"\\n\\n5. **Look for Analyst Reports or Articles:**\\n   - These can provide additional insights and expert opinions on 3M\\'s capital structure and investment strategies.\\n   - **Search Query:** \"analyst reports on 3M\\'s capital expenditures FY2022\"\\n\\nBy executing these search queries, the necessary data and context will be gathered to make an informed assessment of whether 3M is a capital-intensive business based on its FY2022 performance.', role='assistant', tool_calls=None, function_call=None))], usage=Usage(completion_tokens=1020, prompt_tokens=187, total_tokens=1207, completion_tokens_details=None, prompt_tokens_details=None), service_tier=None, provider='DeepInfra')\n"
     ]
    }
   ],
   "source": [
    "from litellm import completion\n",
    "response = completion(\n",
    "        model=\"openrouter/qwen/qwq-32b-preview\",\n",
    "        messages=prompt,\n",
    "        temperature=0.2\n",
    "    )\n",
    "print(response)"
   ]
  },
  {
   "cell_type": "code",
   "execution_count": 35,
   "metadata": {},
   "outputs": [
    {
     "name": "stdout",
     "output_type": "stream",
     "text": [
      "Alright, I need to figure out if 3M is a capital-intensive business based on their FY2022 data. First off, I need to understand what a capital-intensive business is. I think it means a company that requires a lot of initial investment in physical assets like property, plant, and equipment to operate. So, for 3M, which is a multinational corporation that operates in various industries like manufacturing, health care, consumer goods, and more, I need to see how much they invest in assets relative to their sales or revenue.\n",
      "\n",
      "I recall that in finance, there are ratios that can help determine how capital-intensive a company is, like the fixed assets to sales ratio or the capital intensity ratio. Maybe I should look into those. I need to find 3M's financial statements for FY2022 to get the necessary data. Specifically, I'll need their balance sheet and income statement to find the total assets and sales figures.\n",
      "\n",
      "I should probably start by finding 3M's annual report for FY2022. Annual reports usually contain all the financial statements and notes that I might need. Maybe I can search for \"3M FY2022 annual report\" or something similar. Once I have the annual report, I can look for the balance sheet to find the total assets and the income statement to find the sales or revenue figure.\n",
      "\n",
      "Also, it might be helpful to compare 3M's capital intensity with other companies in the same industry to see how it stacks up. That way, I can get a better perspective on whether it's considered high or low in its sector.\n",
      "\n",
      "Wait, I should define what constitutes a capital-intensive business. Is there a specific threshold for the fixed assets to sales ratio or another metric that classifies a company as capital-intensive? I might need to research that.\n",
      "\n",
      "Maybe I should look for articles or resources that explain how to determine if a company is capital-intensive. That could give me a framework to follow.\n",
      "\n",
      "Additionally, since 3M operates in multiple industries, their capital intensity might vary across different segments. If possible, I should look into the breakdown of their assets and sales by business segment.\n",
      "\n",
      "I should also consider other financial metrics that might indicate capital intensity, such as depreciation expenses, which would suggest a significant investment in fixed assets.\n",
      "\n",
      "Overall, my plan is to:\n",
      "\n",
      "1. Find 3M's FY2022 annual report to get the balance sheet and income statement.\n",
      "\n",
      "2. Calculate the fixed assets to sales ratio or another relevant capital intensity ratio.\n",
      "\n",
      "3. Compare 3M's capital intensity with industry standards or competitors.\n",
      "\n",
      "4. Consider the breakdown of assets and sales by business segment if available.\n",
      "\n",
      "5. Look for any additional financial metrics that can support my analysis.\n",
      "\n",
      "To execute this plan, I need to perform some searches to find the required information. So, I'll need to specify search queries for:\n",
      "\n",
      "- 3M FY2022 annual report\n",
      "\n",
      "- Capital intensity ratios and how to calculate them\n",
      "\n",
      "- 3M's industry peers and their capital intensity\n",
      "\n",
      "I think that's a good starting point. Maybe I can also look for analyst reports or articles that discuss 3M's capital structure or investment in assets.\n",
      "\n",
      "Alright, let's proceed to formulate the search queries.\n",
      "\n",
      "## Final Solution\n",
      "To determine if 3M is a capital-intensive business based on FY2022 data, the following plan with search queries is proposed:\n",
      "\n",
      "1. **Search for 3M's FY2022 Annual Report:**\n",
      "   - This will provide access to the company's balance sheet and income statement, which are essential for calculating capital intensity ratios.\n",
      "   - **Search Query:** \"3M FY2022 annual report\"\n",
      "\n",
      "2. **Understand Capital Intensity Ratios:**\n",
      "   - To properly assess capital intensity, it's necessary to know which financial ratios are most indicative of a company's reliance on physical assets.\n",
      "   - **Search Query:** \"how to determine if a company is capital intensive\"\n",
      "\n",
      "3. **Compare with Industry Peers:**\n",
      "   - Comparing 3M's capital intensity with that of its competitors will provide context on whether its level of capital intensity is high or low relative to the industry.\n",
      "   - **Search Query:** \"capital intensity of 3M's industry peers\"\n",
      "\n",
      "4. **Analyze Business Segments:**\n",
      "   - Since 3M operates in multiple industries, understanding the capital intensity of each segment can offer a more nuanced view.\n",
      "   - **Search Query:** \"3M business segment financials FY2022\"\n",
      "\n",
      "5. **Look for Analyst Reports or Articles:**\n",
      "   - These can provide additional insights and expert opinions on 3M's capital structure and investment strategies.\n",
      "   - **Search Query:** \"analyst reports on 3M's capital expenditures FY2022\"\n",
      "\n",
      "By executing these search queries, the necessary data and context will be gathered to make an informed assessment of whether 3M is a capital-intensive business based on its FY2022 performance.\n"
     ]
    }
   ],
   "source": [
    "print(response.choices[0].message.content)"
   ]
  },
  {
   "cell_type": "code",
   "execution_count": 48,
   "metadata": {},
   "outputs": [
    {
     "name": "stdout",
     "output_type": "stream",
     "text": [
      "Search Query: is 3M a capital intensive business 2022\n"
     ]
    }
   ],
   "source": [
    "# Extract the search query with <|begin_search_query|> and <|end_search_query|>\n",
    "search_query = response.choices[0].message.content.split(\"<|begin_search_query|>\")[1].split(\"<|end_search_query|>\")[0].strip()\n",
    "print(\"Search Query:\", search_query)\n",
    "\n"
   ]
  }
 ],
 "metadata": {
  "kernelspec": {
   "display_name": ".venv",
   "language": "python",
   "name": "python3"
  },
  "language_info": {
   "codemirror_mode": {
    "name": "ipython",
    "version": 3
   },
   "file_extension": ".py",
   "mimetype": "text/x-python",
   "name": "python",
   "nbconvert_exporter": "python",
   "pygments_lexer": "ipython3",
   "version": "3.12.4"
  }
 },
 "nbformat": 4,
 "nbformat_minor": 2
}
