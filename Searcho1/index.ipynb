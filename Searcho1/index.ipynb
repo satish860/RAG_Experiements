{
 "cells": [
  {
   "cell_type": "code",
   "execution_count": null,
   "metadata": {},
   "outputs": [],
   "source": [
    "! pip install -q litellm tqdm PyMuPDF Pillow instructor openai python-dotenv weaviate-client pandas"
   ]
  },
  {
   "cell_type": "code",
   "execution_count": 1,
   "metadata": {},
   "outputs": [
    {
     "data": {
      "text/plain": [
       "True"
      ]
     },
     "execution_count": 1,
     "metadata": {},
     "output_type": "execute_result"
    }
   ],
   "source": [
    "import os \n",
    "from dotenv import load_dotenv\n",
    "\n",
    "load_dotenv()"
   ]
  },
  {
   "cell_type": "code",
   "execution_count": 33,
   "metadata": {},
   "outputs": [],
   "source": [
    "def get_gpqa_rag_agent_instruction(MAX_SEARCH_LIMIT, MAX_URL_FETCH):\n",
    "    return (\n",
    "        \"You are a reasoning assistant with the ability to perform web searches and retrieve webpage content to help \"\n",
    "        \"you answer the user’s question accurately. You have special tools:\\n\\n\"\n",
    "        \"- To perform a search: write <|begin_search_query|> your query here <|end_search_query|>.\\n\"\n",
    "        \"Then, the system will call the web search API with your query and return the search results to you in the format <|begin_search_result|> ...search results... <|end_search_result|>.\\n\"\n",
    "        \"  The search results will contain a list of webpages with titles, URLs, and snippets (but not full content).\\n\\n\"\n",
    "        \"- After receiving the search results, if you need more detailed information from one or more specific URLs, write <|begin_url|> url1, url2, ... <|end_url|>.\\n\"\n",
    "        \"  The system will fetch the full page content of those URLs and return it to you as <|begin_full_page|> ...full page content... <|end_full_page|>.\\n\\n\"\n",
    "        f\"You can repeat the search process multiple times if necessary. The maximum number of search attempts is limited to {MAX_SEARCH_LIMIT}.\\n\"\n",
    "        f\"You can fetch up to {MAX_URL_FETCH} URLs for detailed information.\\n\\n\"\n",
    "        \"Once you have all the information you need, continue your reasoning.\\n\\n\"\n",
    "        \"Example:\\n\"\n",
    "        \"Question: \\\"What is the energy range of pp III neutrinos?\\\"\\n\"\n",
    "        \"Assistant thinking steps:\\n\"\n",
    "        \"- I might need to look up details about pp III neutrinos.\\n\\n\"\n",
    "        \"Assistant:\\n\"\n",
    "        \"<|begin_search_query|>pp III neutrino energy spectrum<|end_search_query|>\\n\\n\"\n",
    "        \"(System returns search results)\\n\\n\"\n",
    "        \"Assistant:\\n\"\n",
    "        \"<|begin_search_result|> ...search results without full page... <|end_search_result|>\\n\\n\"\n",
    "        \"Assistant thinks: The search results mention some URLs. I want full details from one of them.\\n\\n\"\n",
    "        \"Assistant:\\n\"\n",
    "        \"<|begin_url|>http://example.com/ppIII_neutrino.html<|end_url|>\\n\\n\" \n",
    "        \"(System returns full page content)\\n\\n\"\n",
    "        \"Assistant:\\n\"\n",
    "        \"<|begin_full_page|> ...full page content... <|end_full_page|>\\n\\n\"\n",
    "        \"Now the assistant has enough info and can continue reasoning.\\n\\n\"\n",
    "        \"Remember:\\n\"\n",
    "        \"- Use <|begin_search_query|> to request a web search and end with <|end_search_query|>.\\n\"\n",
    "        \"- Use <|begin_url|> to request full page content and end with <|end_url|>.\\n\"\n",
    "        \"- When done retrieving information, continue your reasoning.\\n\\n\"\n",
    "    )"
   ]
  },
  {
   "cell_type": "code",
   "execution_count": 35,
   "metadata": {},
   "outputs": [],
   "source": [
    "def get_task_instruction_openqa(question, model_name=None):\n",
    "    if model_name == 'qwq':\n",
    "        user_prompt = (\n",
    "            'Please answer the following question. '\n",
    "            'You should provide your final answer in the format \\\\boxed{YOUR_ANSWER}.\\n\\n'\n",
    "            f'Question:\\n{question}\\n\\n'\n",
    "        )\n",
    "    else:\n",
    "        user_prompt = (\n",
    "            'Please answer the following question. You should think step by step to solve it.\\n\\n'\n",
    "            'Provide your final answer in the format \\\\boxed{YOUR_ANSWER}.\\n\\n'\n",
    "            f'Question:\\n{question}\\n\\n'\n",
    "        )\n",
    "    return user_prompt"
   ]
  },
  {
   "cell_type": "code",
   "execution_count": 36,
   "metadata": {},
   "outputs": [],
   "source": [
    "question = \"\"\"\n",
    "Is 3M a capital-intensive business based on FY2022 data?\n",
    "\"\"\""
   ]
  },
  {
   "cell_type": "code",
   "execution_count": 39,
   "metadata": {},
   "outputs": [],
   "source": [
    "\n",
    "user_prompt = get_task_instruction_openqa(question)\n",
    "instruction = get_gpqa_rag_agent_instruction(5,10)\n",
    "\n",
    "prompt = [{\"role\": \"user\", \"content\": instruction + user_prompt}]"
   ]
  },
  {
   "cell_type": "code",
   "execution_count": 29,
   "metadata": {},
   "outputs": [
    {
     "data": {
      "text/plain": [
       "[{'role': 'user',\n",
       "  'content': 'You are a reasoning assistant with the ability to perform web searches and retrieve webpage content to help you answer the user’s question accurately. You have special tools:\\n\\n- To perform a search: write <|begin_search_query|> your query here <|end_search_query|>.\\nThen, the system will call the web search API with your query and return the search results to you in the format <|begin_search_result|> ...search results... <|end_search_result|>.\\n  The search results will contain a list of webpages with titles, URLs, and snippets (but not full content).\\n\\n- After receiving the search results, if you need more detailed information from one or more specific URLs, write <|begin_url|> url1, url2, ... <|end_url|>.\\n  The system will fetch the full page content of those URLs and return it to you as <|begin_full_page|> ...full page content... <|end_full_page|>.\\n\\nYou can repeat the search process multiple times if necessary. The maximum number of search attempts is limited to 5.\\nYou can fetch up to 10 URLs for detailed information.\\n\\nOnce you have all the information you need, continue your reasoning.\\n\\nExample:\\nQuestion: \"What is the energy range of pp III neutrinos?\"\\nAssistant thinking steps:\\n- I might need to look up details about pp III neutrinos.\\n\\nAssistant:\\n<|begin_search_query|>pp III neutrino energy spectrum<|end_search_query|>\\n\\n(System returns search results)\\n\\nAssistant:\\n<|begin_search_result|> ...search results without full page... <|end_search_result|>\\n\\nAssistant thinks: The search results mention some URLs. I want full details from one of them.\\n\\nAssistant:\\n<|begin_url|>http://example.com/ppIII_neutrino.html<|end_url|>\\n\\n(System returns full page content)\\n\\nAssistant:\\n<|begin_full_page|> ...full page content... <|end_full_page|>\\n\\nNow the assistant has enough info and can continue reasoning.\\n\\nRemember:\\n- Use <|begin_search_query|> to request a web search and end with <|end_search_query|>.\\n- Use <|begin_url|> to request full page content and end with <|end_url|>.\\n- When done retrieving information, continue your reasoning.\\n\\nPlease answer the following question. You should think step by step to solve it.\\n\\nProvide your final answer in the format \\\\boxed{YOUR_ANSWER}.\\n\\nQuestion:\\n\\nIs 3M a capital-intensive business based on FY2022 data?\\n\\n\\n'}]"
      ]
     },
     "execution_count": 40,
     "metadata": {},
     "output_type": "execute_result"
    }
   ],
   "source": [
    "prompt"
   ]
  },
  {
   "cell_type": "code",
   "execution_count": 44,
   "metadata": {},
   "outputs": [
    {
     "name": "stderr",
     "output_type": "stream",
     "text": [
      "\u001b[92m17:06:04 - LiteLLM:WARNING\u001b[0m: utils.py:318 - `litellm.set_verbose` is deprecated. Please set `os.environ['LITELLM_LOG'] = 'DEBUG'` for debug logs.\n"
     ]
    },
    {
     "name": "stdout",
     "output_type": "stream",
     "text": [
      "\n",
      "\n",
      "\u001b[92mRequest to litellm:\u001b[0m\n",
      "\u001b[92mlitellm.completion(model='openrouter/google/gemini-2.0-flash-thinking-exp:free', messages=[{'role': 'user', 'content': 'You are a reasoning assistant with the ability to perform web searches and retrieve webpage content to help you answer the user’s question accurately. You have special tools:\\n\\n- To perform a search: write <|begin_search_query|> your query here <|end_search_query|>.\\nThen, the system will call the web search API with your query and return the search results to you in the format <|begin_search_result|> ...search results... <|end_search_result|>.\\n  The search results will contain a list of webpages with titles, URLs, and snippets (but not full content).\\n\\n- After receiving the search results, if you need more detailed information from one or more specific URLs, write <|begin_url|> url1, url2, ... <|end_url|>.\\n  The system will fetch the full page content of those URLs and return it to you as <|begin_full_page|> ...full page content... <|end_full_page|>.\\n\\nYou can repeat the search process multiple times if necessary. The maximum number of search attempts is limited to 5.\\nYou can fetch up to 10 URLs for detailed information.\\n\\nOnce you have all the information you need, continue your reasoning.\\n\\nExample:\\nQuestion: \"What is the energy range of pp III neutrinos?\"\\nAssistant thinking steps:\\n- I might need to look up details about pp III neutrinos.\\n\\nAssistant:\\n<|begin_search_query|>pp III neutrino energy spectrum<|end_search_query|>\\n\\n(System returns search results)\\n\\nAssistant:\\n<|begin_search_result|> ...search results without full page... <|end_search_result|>\\n\\nAssistant thinks: The search results mention some URLs. I want full details from one of them.\\n\\nAssistant:\\n<|begin_url|>http://example.com/ppIII_neutrino.html<|end_url|>\\n\\n(System returns full page content)\\n\\nAssistant:\\n<|begin_full_page|> ...full page content... <|end_full_page|>\\n\\nNow the assistant has enough info and can continue reasoning.\\n\\nRemember:\\n- Use <|begin_search_query|> to request a web search and end with <|end_search_query|>.\\n- Use <|begin_url|> to request full page content and end with <|end_url|>.\\n- When done retrieving information, continue your reasoning.\\n\\nPlease answer the following question. You should think step by step to solve it.\\n\\nProvide your final answer in the format \\\\boxed{YOUR_ANSWER}.\\n\\nQuestion:\\n\\nIs 3M a capital-intensive business based on FY2022 data?\\n\\n\\n'}], temperature=0.2)\u001b[0m\n",
      "\n",
      "\n",
      "SYNC kwargs[caching]: False; litellm.cache: None; kwargs.get('cache')['no-cache']: False\n",
      "Final returned optional params: {'temperature': 0.2, 'extra_body': {}}\n",
      "RAW RESPONSE:\n",
      "{\"id\": \"gen-1737200166-yPEO4PIoGkovto7bd426\", \"choices\": [{\"finish_reason\": \"stop\", \"index\": 0, \"logprobs\": null, \"message\": {\"content\": \"Here's a breakdown of the thought process to answer the question:\\n\\n1. **Understand the Question:** The core question is whether 3M is capital-intensive in 2022. This requires defining \\\"capital-intensive\\\" and then finding relevant data for 3M in 2022.\\n\\n2. **Define Capital-Intensive:**  A capital-intensive business requires significant investment in fixed assets (property, plant, and equipment - PP&E) to generate revenue.  Key indicators often involve comparing capital expenditures to revenue or looking at the proportion of fixed assets on the balance sheet.\\n\\n3. **Initial Search Strategy:**  The most direct approach is to search for information specifically stating whether 3M is capital-intensive.  If that fails, searching for 3M's financial data for 2022 will be necessary.\\n\\n4. **First Search Attempt:**\\n   <|begin_search_query|>is 3M a capital intensive business 2022<|end_search_query|>\\n\\n5. **Analyze Search Results (Simulated):**  Assume the search results provide some general information about 3M but don't definitively answer the capital-intensive question.  They might point to 3M's investor relations page or financial news articles.\\n\\n6. **Second Search Attempt (If Necessary):** If the first search is inconclusive, a more targeted search for financial data is needed.\\n   <|begin_search_query|>3M financial statements 2022<|end_search_query|>\\n\\n7. **Analyze Search Results (Simulated):** Assume this search yields links to 3M's official investor relations website, specifically their annual report or SEC filings (like the 10-K).\\n\\n8. **Request Full Page Content:**  The best source for detailed financial data is 3M's official filings.\\n   <|begin_url|> [Hypothetical URL to 3M's 2022 10-K or annual report] <|end_url|>\\n\\n9. **Analyze Full Page Content (Simulated):**  Once the content is retrieved, look for key financial metrics:\\n    * **Capital Expenditures (CapEx):**  This is the direct investment in fixed assets.\\n    * **Revenue:**  To compare CapEx against.\\n    * **Property, Plant, and Equipment (PP&E):**  The total value of fixed assets.\\n    * **Total Assets:** To see the proportion of PP&E.\\n\\n10. **Calculate Ratios and Make a Judgment:**\\n    * **CapEx to Revenue Ratio:**  A higher ratio suggests more capital intensity.  There's no strict threshold, but generally, a ratio above 10-15% might indicate capital intensity, depending on the industry.\\n    * **PP&E to Total Assets Ratio:** A higher percentage indicates a larger portion of assets tied up in fixed assets.\\n\\n11. **Consider Industry Context:**  Manufacturing companies like 3M often have significant investments in equipment, making them more capital-intensive than, say, a software company.  However, compare 3M to other manufacturing companies to get a better sense.\\n\\n12. **Formulate the Answer:** Based on the data and comparisons, determine if 3M fits the definition of a capital-intensive business.  Acknowledge the nuances and provide the supporting data.\\n\\n13. **Refine the Answer:** Ensure the answer is clear, concise, and directly addresses the question using the 2022 data.\\n\\n**(Self-Correction during the process):**\\n\\n* **Initial thought:** Maybe just searching \\\"3M capital intensity\\\" will give a direct answer.\\n* **Correction:**  Direct answers might be biased or lack supporting data.  It's better to rely on financial data and make an informed judgment.\\n* **Initial thought:**  Just looking at CapEx is enough.\\n* **Correction:**  Comparing CapEx to revenue and looking at the balance sheet provides a more comprehensive picture.\\n* **Initial thought:**  Any manufacturing company is automatically capital-intensive.\\n* **Correction:** While generally true, the *degree* of capital intensity varies.  Comparing ratios is crucial.Assistant:\\n<|begin_search_query|>3M financial data 2022 capital expenditures<|end_search_query|>\\n\", \"refusal\": \"\", \"role\": \"assistant\", \"audio\": null, \"function_call\": null, \"tool_calls\": null}, \"native_finish_reason\": \"STOP\"}], \"created\": 1737200166, \"model\": \"google/gemini-2.0-flash-thinking-exp\", \"object\": \"chat.completion\", \"service_tier\": null, \"system_fingerprint\": null, \"usage\": {\"completion_tokens\": 924, \"prompt_tokens\": 574, \"total_tokens\": 1498, \"completion_tokens_details\": null, \"prompt_tokens_details\": null}, \"provider\": \"Google\"}\n",
      "\n",
      "\n",
      "RAW RESPONSE:\n",
      "ModelResponse(id='gen-1737200166-yPEO4PIoGkovto7bd426', created=1737200166, model='openrouter/google/gemini-2.0-flash-thinking-exp', object='chat.completion', system_fingerprint=None, choices=[Choices(finish_reason='stop', index=0, message=Message(content='Here\\'s a breakdown of the thought process to answer the question:\\n\\n1. **Understand the Question:** The core question is whether 3M is capital-intensive in 2022. This requires defining \"capital-intensive\" and then finding relevant data for 3M in 2022.\\n\\n2. **Define Capital-Intensive:**  A capital-intensive business requires significant investment in fixed assets (property, plant, and equipment - PP&E) to generate revenue.  Key indicators often involve comparing capital expenditures to revenue or looking at the proportion of fixed assets on the balance sheet.\\n\\n3. **Initial Search Strategy:**  The most direct approach is to search for information specifically stating whether 3M is capital-intensive.  If that fails, searching for 3M\\'s financial data for 2022 will be necessary.\\n\\n4. **First Search Attempt:**\\n   <|begin_search_query|>is 3M a capital intensive business 2022<|end_search_query|>\\n\\n5. **Analyze Search Results (Simulated):**  Assume the search results provide some general information about 3M but don\\'t definitively answer the capital-intensive question.  They might point to 3M\\'s investor relations page or financial news articles.\\n\\n6. **Second Search Attempt (If Necessary):** If the first search is inconclusive, a more targeted search for financial data is needed.\\n   <|begin_search_query|>3M financial statements 2022<|end_search_query|>\\n\\n7. **Analyze Search Results (Simulated):** Assume this search yields links to 3M\\'s official investor relations website, specifically their annual report or SEC filings (like the 10-K).\\n\\n8. **Request Full Page Content:**  The best source for detailed financial data is 3M\\'s official filings.\\n   <|begin_url|> [Hypothetical URL to 3M\\'s 2022 10-K or annual report] <|end_url|>\\n\\n9. **Analyze Full Page Content (Simulated):**  Once the content is retrieved, look for key financial metrics:\\n    * **Capital Expenditures (CapEx):**  This is the direct investment in fixed assets.\\n    * **Revenue:**  To compare CapEx against.\\n    * **Property, Plant, and Equipment (PP&E):**  The total value of fixed assets.\\n    * **Total Assets:** To see the proportion of PP&E.\\n\\n10. **Calculate Ratios and Make a Judgment:**\\n    * **CapEx to Revenue Ratio:**  A higher ratio suggests more capital intensity.  There\\'s no strict threshold, but generally, a ratio above 10-15% might indicate capital intensity, depending on the industry.\\n    * **PP&E to Total Assets Ratio:** A higher percentage indicates a larger portion of assets tied up in fixed assets.\\n\\n11. **Consider Industry Context:**  Manufacturing companies like 3M often have significant investments in equipment, making them more capital-intensive than, say, a software company.  However, compare 3M to other manufacturing companies to get a better sense.\\n\\n12. **Formulate the Answer:** Based on the data and comparisons, determine if 3M fits the definition of a capital-intensive business.  Acknowledge the nuances and provide the supporting data.\\n\\n13. **Refine the Answer:** Ensure the answer is clear, concise, and directly addresses the question using the 2022 data.\\n\\n**(Self-Correction during the process):**\\n\\n* **Initial thought:** Maybe just searching \"3M capital intensity\" will give a direct answer.\\n* **Correction:**  Direct answers might be biased or lack supporting data.  It\\'s better to rely on financial data and make an informed judgment.\\n* **Initial thought:**  Just looking at CapEx is enough.\\n* **Correction:**  Comparing CapEx to revenue and looking at the balance sheet provides a more comprehensive picture.\\n* **Initial thought:**  Any manufacturing company is automatically capital-intensive.\\n* **Correction:** While generally true, the *degree* of capital intensity varies.  Comparing ratios is crucial.Assistant:\\n<|begin_search_query|>3M financial data 2022 capital expenditures<|end_search_query|>\\n', role='assistant', tool_calls=None, function_call=None))], usage=Usage(completion_tokens=924, prompt_tokens=574, total_tokens=1498, completion_tokens_details=None, prompt_tokens_details=None), service_tier=None, provider='Google')\n",
      "\n",
      "\n",
      "ModelResponse(id='gen-1737200166-yPEO4PIoGkovto7bd426', created=1737200166, model='openrouter/google/gemini-2.0-flash-thinking-exp', object='chat.completion', system_fingerprint=None, choices=[Choices(finish_reason='stop', index=0, message=Message(content='Here\\'s a breakdown of the thought process to answer the question:\\n\\n1. **Understand the Question:** The core question is whether 3M is capital-intensive in 2022. This requires defining \"capital-intensive\" and then finding relevant data for 3M in 2022.\\n\\n2. **Define Capital-Intensive:**  A capital-intensive business requires significant investment in fixed assets (property, plant, and equipment - PP&E) to generate revenue.  Key indicators often involve comparing capital expenditures to revenue or looking at the proportion of fixed assets on the balance sheet.\\n\\n3. **Initial Search Strategy:**  The most direct approach is to search for information specifically stating whether 3M is capital-intensive.  If that fails, searching for 3M\\'s financial data for 2022 will be necessary.\\n\\n4. **First Search Attempt:**\\n   <|begin_search_query|>is 3M a capital intensive business 2022<|end_search_query|>\\n\\n5. **Analyze Search Results (Simulated):**  Assume the search results provide some general information about 3M but don\\'t definitively answer the capital-intensive question.  They might point to 3M\\'s investor relations page or financial news articles.\\n\\n6. **Second Search Attempt (If Necessary):** If the first search is inconclusive, a more targeted search for financial data is needed.\\n   <|begin_search_query|>3M financial statements 2022<|end_search_query|>\\n\\n7. **Analyze Search Results (Simulated):** Assume this search yields links to 3M\\'s official investor relations website, specifically their annual report or SEC filings (like the 10-K).\\n\\n8. **Request Full Page Content:**  The best source for detailed financial data is 3M\\'s official filings.\\n   <|begin_url|> [Hypothetical URL to 3M\\'s 2022 10-K or annual report] <|end_url|>\\n\\n9. **Analyze Full Page Content (Simulated):**  Once the content is retrieved, look for key financial metrics:\\n    * **Capital Expenditures (CapEx):**  This is the direct investment in fixed assets.\\n    * **Revenue:**  To compare CapEx against.\\n    * **Property, Plant, and Equipment (PP&E):**  The total value of fixed assets.\\n    * **Total Assets:** To see the proportion of PP&E.\\n\\n10. **Calculate Ratios and Make a Judgment:**\\n    * **CapEx to Revenue Ratio:**  A higher ratio suggests more capital intensity.  There\\'s no strict threshold, but generally, a ratio above 10-15% might indicate capital intensity, depending on the industry.\\n    * **PP&E to Total Assets Ratio:** A higher percentage indicates a larger portion of assets tied up in fixed assets.\\n\\n11. **Consider Industry Context:**  Manufacturing companies like 3M often have significant investments in equipment, making them more capital-intensive than, say, a software company.  However, compare 3M to other manufacturing companies to get a better sense.\\n\\n12. **Formulate the Answer:** Based on the data and comparisons, determine if 3M fits the definition of a capital-intensive business.  Acknowledge the nuances and provide the supporting data.\\n\\n13. **Refine the Answer:** Ensure the answer is clear, concise, and directly addresses the question using the 2022 data.\\n\\n**(Self-Correction during the process):**\\n\\n* **Initial thought:** Maybe just searching \"3M capital intensity\" will give a direct answer.\\n* **Correction:**  Direct answers might be biased or lack supporting data.  It\\'s better to rely on financial data and make an informed judgment.\\n* **Initial thought:**  Just looking at CapEx is enough.\\n* **Correction:**  Comparing CapEx to revenue and looking at the balance sheet provides a more comprehensive picture.\\n* **Initial thought:**  Any manufacturing company is automatically capital-intensive.\\n* **Correction:** While generally true, the *degree* of capital intensity varies.  Comparing ratios is crucial.Assistant:\\n<|begin_search_query|>3M financial data 2022 capital expenditures<|end_search_query|>\\n', role='assistant', tool_calls=None, function_call=None))], usage=Usage(completion_tokens=924, prompt_tokens=574, total_tokens=1498, completion_tokens_details=None, prompt_tokens_details=None), service_tier=None, provider='Google')\n"
     ]
    }
   ],
   "source": [
    "from litellm import completion\n",
    "response = completion(\n",
    "        model=\"openrouter/google/gemini-2.0-flash-thinking-exp:free\",\n",
    "        messages=prompt,\n",
    "        temperature=0.2\n",
    "    )\n",
    "print(response)"
   ]
  },
  {
   "cell_type": "code",
   "execution_count": 47,
   "metadata": {},
   "outputs": [
    {
     "name": "stdout",
     "output_type": "stream",
     "text": [
      "Here's a breakdown of the thought process to answer the question:\n",
      "\n",
      "1. **Understand the Question:** The core question is whether 3M is capital-intensive in 2022. This requires defining \"capital-intensive\" and then finding relevant data for 3M in 2022.\n",
      "\n",
      "2. **Define Capital-Intensive:**  A capital-intensive business requires significant investment in fixed assets (property, plant, and equipment - PP&E) to generate revenue.  Key indicators often involve comparing capital expenditures to revenue or looking at the proportion of fixed assets on the balance sheet.\n",
      "\n",
      "3. **Initial Search Strategy:**  The most direct approach is to search for information specifically stating whether 3M is capital-intensive.  If that fails, searching for 3M's financial data for 2022 will be necessary.\n",
      "\n",
      "4. **First Search Attempt:**\n",
      "   <|begin_search_query|>is 3M a capital intensive business 2022<|end_search_query|>\n",
      "\n",
      "5. **Analyze Search Results (Simulated):**  Assume the search results provide some general information about 3M but don't definitively answer the capital-intensive question.  They might point to 3M's investor relations page or financial news articles.\n",
      "\n",
      "6. **Second Search Attempt (If Necessary):** If the first search is inconclusive, a more targeted search for financial data is needed.\n",
      "   <|begin_search_query|>3M financial statements 2022<|end_search_query|>\n",
      "\n",
      "7. **Analyze Search Results (Simulated):** Assume this search yields links to 3M's official investor relations website, specifically their annual report or SEC filings (like the 10-K).\n",
      "\n",
      "8. **Request Full Page Content:**  The best source for detailed financial data is 3M's official filings.\n",
      "   <|begin_url|> [Hypothetical URL to 3M's 2022 10-K or annual report] <|end_url|>\n",
      "\n",
      "9. **Analyze Full Page Content (Simulated):**  Once the content is retrieved, look for key financial metrics:\n",
      "    * **Capital Expenditures (CapEx):**  This is the direct investment in fixed assets.\n",
      "    * **Revenue:**  To compare CapEx against.\n",
      "    * **Property, Plant, and Equipment (PP&E):**  The total value of fixed assets.\n",
      "    * **Total Assets:** To see the proportion of PP&E.\n",
      "\n",
      "10. **Calculate Ratios and Make a Judgment:**\n",
      "    * **CapEx to Revenue Ratio:**  A higher ratio suggests more capital intensity.  There's no strict threshold, but generally, a ratio above 10-15% might indicate capital intensity, depending on the industry.\n",
      "    * **PP&E to Total Assets Ratio:** A higher percentage indicates a larger portion of assets tied up in fixed assets.\n",
      "\n",
      "11. **Consider Industry Context:**  Manufacturing companies like 3M often have significant investments in equipment, making them more capital-intensive than, say, a software company.  However, compare 3M to other manufacturing companies to get a better sense.\n",
      "\n",
      "12. **Formulate the Answer:** Based on the data and comparisons, determine if 3M fits the definition of a capital-intensive business.  Acknowledge the nuances and provide the supporting data.\n",
      "\n",
      "13. **Refine the Answer:** Ensure the answer is clear, concise, and directly addresses the question using the 2022 data.\n",
      "\n",
      "**(Self-Correction during the process):**\n",
      "\n",
      "* **Initial thought:** Maybe just searching \"3M capital intensity\" will give a direct answer.\n",
      "* **Correction:**  Direct answers might be biased or lack supporting data.  It's better to rely on financial data and make an informed judgment.\n",
      "* **Initial thought:**  Just looking at CapEx is enough.\n",
      "* **Correction:**  Comparing CapEx to revenue and looking at the balance sheet provides a more comprehensive picture.\n",
      "* **Initial thought:**  Any manufacturing company is automatically capital-intensive.\n",
      "* **Correction:** While generally true, the *degree* of capital intensity varies.  Comparing ratios is crucial.Assistant:\n",
      "<|begin_search_query|>3M financial data 2022 capital expenditures<|end_search_query|>\n",
      "\n"
     ]
    }
   ],
   "source": [
    "print(response.choices[0].message.content)"
   ]
  },
  {
   "cell_type": "code",
   "execution_count": 48,
   "metadata": {},
   "outputs": [
    {
     "name": "stdout",
     "output_type": "stream",
     "text": [
      "Search Query: is 3M a capital intensive business 2022\n"
     ]
    }
   ],
   "source": [
    "# Extract the search query with <|begin_search_query|> and <|end_search_query|>\n",
    "search_query = response.choices[0].message.content.split(\"<|begin_search_query|>\")[1].split(\"<|end_search_query|>\")[0].strip()\n",
    "print(\"Search Query:\", search_query)\n",
    "\n"
   ]
  }
 ],
 "metadata": {
  "kernelspec": {
   "display_name": ".venv",
   "language": "python",
   "name": "python3"
  },
  "language_info": {
   "codemirror_mode": {
    "name": "ipython",
    "version": 3
   },
   "file_extension": ".py",
   "mimetype": "text/x-python",
   "name": "python",
   "nbconvert_exporter": "python",
   "pygments_lexer": "ipython3",
   "version": "3.12.4"
  }
 },
 "nbformat": 4,
 "nbformat_minor": 2
}
